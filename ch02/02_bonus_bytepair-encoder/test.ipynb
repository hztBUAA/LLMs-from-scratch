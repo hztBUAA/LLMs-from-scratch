{
 "cells": [
  {
   "cell_type": "code",
   "execution_count": 1,
   "metadata": {},
   "outputs": [],
   "source": [
    "import os\n",
    "import json\n",
    "import regex as re"
   ]
  },
  {
   "cell_type": "code",
   "execution_count": 4,
   "metadata": {},
   "outputs": [
    {
     "data": {
      "text/plain": [
       "'Ā'"
      ]
     },
     "execution_count": 4,
     "metadata": {},
     "output_type": "execute_result"
    }
   ],
   "source": [
    "chr(0)\n",
    "chr(2**8)"
   ]
  },
  {
   "cell_type": "code",
   "execution_count": 7,
   "metadata": {},
   "outputs": [
    {
     "name": "stdout",
     "output_type": "stream",
     "text": [
      "hzt I\n",
      "hyt bro\n",
      "hj dad\n",
      "hzc mom\n"
     ]
    }
   ],
   "source": [
    "k = [\"hzt\",\"hyt\",\"hj\",\"hzc\"]\n",
    "v = [\"I\",\"bro\",\"dad\", \"mom\"]\n",
    "\n",
    "d = dict(zip(k,v))\n",
    "for x,y in d.items():\n",
    "    print(x,y)\n",
    "for x in d:\n",
    "    print(x)"
   ]
  },
  {
   "cell_type": "code",
   "execution_count": 9,
   "metadata": {},
   "outputs": [],
   "source": [
    "\n",
    "def get_pairs(word):\n",
    "    \"\"\"\n",
    "    Return set of symbol pairs in a word.\n",
    "    Word is represented as tuple of symbols (symbols being variable-length strings).\n",
    "    \"\"\"\n",
    "    pairs = set()\n",
    "    prev_char = word[0]\n",
    "    for char in word[1:]:\n",
    "        pairs.add((prev_char, char))\n",
    "        prev_char = char\n",
    "    return pairs"
   ]
  },
  {
   "cell_type": "code",
   "execution_count": 21,
   "metadata": {},
   "outputs": [
    {
     "data": {
      "text/plain": [
       "{('e', 'l'), ('h', 'e'), ('l', 'l'), ('l', 'o')}"
      ]
     },
     "execution_count": 21,
     "metadata": {},
     "output_type": "execute_result"
    }
   ],
   "source": [
    "word = \"hello\"\n",
    "tup = tuple(word)\n",
    "tup\n",
    "# get_pairs(word)\n",
    "# blank_pairs = get_pairs(\"a\")\n",
    "# blank_pairs\n",
    "get_pairs(tup)"
   ]
  },
  {
   "cell_type": "code",
   "execution_count": 19,
   "metadata": {},
   "outputs": [
    {
     "data": {
      "text/plain": [
       "'hzt'"
      ]
     },
     "execution_count": 19,
     "metadata": {},
     "output_type": "execute_result"
    }
   ],
   "source": [
    "words = [\"hzt\",\"hyt\",\"hj\",\"hzc\"]\n",
    "get_pairs(words)\n",
    "wwords = words\n",
    "wwords[0] = \"modified\"\n",
    "words\n",
    "\n",
    "a = \"hzt\"\n",
    "b = a\n",
    "b = \"mod\"\n",
    "a"
   ]
  },
  {
   "cell_type": "code",
   "execution_count": 12,
   "metadata": {},
   "outputs": [
    {
     "name": "stdout",
     "output_type": "stream",
     "text": [
      "empty\n"
     ]
    }
   ],
   "source": [
    "if not blank_pairs:\n",
    "    print(\"empty\")\n",
    "\n",
    "    "
   ]
  },
  {
   "cell_type": "code",
   "execution_count": 15,
   "metadata": {},
   "outputs": [
    {
     "name": "stdout",
     "output_type": "stream",
     "text": [
      "104\n",
      "101\n",
      "108\n",
      "108\n",
      "111\n",
      "b'hello'\n"
     ]
    }
   ],
   "source": [
    "def turn2bytes(word):\n",
    "    \"\"\"\n",
    "    Convert a string to a list of bytes.\n",
    "    \"\"\"\n",
    "    for b in word.encode('utf-8'):\n",
    "        print(b)\n",
    "    print(word.encode('utf-8'))\n",
    "\n",
    "turn2bytes(\"hello\")"
   ]
  },
  {
   "cell_type": "code",
   "execution_count": 22,
   "metadata": {},
   "outputs": [
    {
     "data": {
      "text/plain": [
       "['hello', 'world']"
      ]
     },
     "execution_count": 22,
     "metadata": {},
     "output_type": "execute_result"
    }
   ],
   "source": [
    "# use re.findall\n",
    "def tokenize(text):\n",
    "    return re.findall(r'\\p{L}+', text)\n",
    "\n",
    "text = \"hello world\"\n",
    "tokenize(text)"
   ]
  },
  {
   "cell_type": "code",
   "execution_count": 24,
   "metadata": {},
   "outputs": [
    {
     "data": {
      "text/plain": [
       "33"
      ]
     },
     "execution_count": 24,
     "metadata": {},
     "output_type": "execute_result"
    }
   ],
   "source": [
    "ord('!')"
   ]
  },
  {
   "cell_type": "code",
   "execution_count": 26,
   "metadata": {},
   "outputs": [
    {
     "data": {
      "text/plain": [
       "'ÿ'"
      ]
     },
     "execution_count": 26,
     "metadata": {},
     "output_type": "execute_result"
    }
   ],
   "source": [
    "chr(255)"
   ]
  },
  {
   "cell_type": "code",
   "execution_count": 34,
   "metadata": {},
   "outputs": [
    {
     "data": {
      "text/plain": [
       "'❦'"
      ]
     },
     "execution_count": 34,
     "metadata": {},
     "output_type": "execute_result"
    }
   ],
   "source": [
    "chr(33)\n",
    "chr(65)\n",
    "chr(10086)"
   ]
  },
  {
   "cell_type": "code",
   "execution_count": null,
   "metadata": {},
   "outputs": [],
   "source": [
    "# ASCII and Unicode are both character encoding standards used for representing text in computers and other devices. Here's a comparison:\n",
    "\n",
    "# ASCII:\n",
    "# Stands for American Standard Code for Information Interchange.\n",
    "# Uses 7 bits to represent each character, allowing for 128 unique characters.\n",
    "# Includes English letters (uppercase and lowercase), digits, punctuation marks, and control characters.\n",
    "# Limited to the English alphabet and lacks support for other languages or special characters.\n",
    "# Unicode:\n",
    "# Aims to support all written languages, as well as mathematical and technical symbols.\n",
    "# Uses multiple encoding forms: UTF-8, UTF-16, and UTF-32 are the most common.\n",
    "# UTF-8 is backward compatible with ASCII but can use up to 4 bytes per character, allowing for over a million unique characters.\n",
    "# Includes a vast array of characters from different languages, emojis, and symbols.\n",
    "# Designed to address the limitations of ASCII by providing a universal character set.\n",
    "# In summary, ASCII is limited to 128 characters, suitable primarily for English text. Unicode, on the other hand, encompasses a much broader range of characters and symbols, supporting virtually all written languages and many other symbols."
   ]
  },
  {
   "cell_type": "markdown",
   "metadata": {},
   "source": []
  }
 ],
 "metadata": {
  "kernelspec": {
   "display_name": "LLMs",
   "language": "python",
   "name": "python3"
  },
  "language_info": {
   "codemirror_mode": {
    "name": "ipython",
    "version": 3
   },
   "file_extension": ".py",
   "mimetype": "text/x-python",
   "name": "python",
   "nbconvert_exporter": "python",
   "pygments_lexer": "ipython3",
   "version": "3.10.0"
  }
 },
 "nbformat": 4,
 "nbformat_minor": 2
}
